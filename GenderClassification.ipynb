{
 "cells": [
  {
   "cell_type": "code",
   "execution_count": null,
   "id": "c39fec88",
   "metadata": {},
   "outputs": [],
   "source": [
    "import pandas as pd\n",
    "import numpy as np\n",
    "import matplotlib.pyplot as plt\n",
    "import seaborn as sns\n",
    "import mglearn\n",
    "import random\n",
    "import tensorflow as tf\n",
    "from keras.models import Sequential\n",
    "from keras.layers import Dense, Dropout, Activation, Flatten\n",
    "from keras.layers import Convolution2D, MaxPooling2D\n",
    "from tensorflow.keras.optimizers import Adam\n",
    "from keras.utils import np_utils\n",
    "from sklearn import preprocessing, neighbors, naive_bayes, tree, ensemble, svm, neural_network, metrics\n",
    "from sklearn.model_selection import train_test_split\n",
    "from sklearn.linear_model import LogisticRegression\n",
    "from sklearn.feature_selection import SelectKBest, f_classif\n",
    "from sklearn.metrics import classification_report, confusion_matrix, accuracy_score, ConfusionMatrixDisplay, RocCurveDisplay, make_scorer\n",
    "from sklearn.model_selection import KFold ,cross_val_score\n",
    "from keras.callbacks import EarlyStopping\n",
    "import tensorflow as tf\n",
    "from keras.utils.np_utils import to_categorical\n",
    "from sklearn.preprocessing import LabelEncoder\n",
    "from sklearn.preprocessing import StandardScaler\n",
    "from IPython.display import Audio\n",
    "import visualkeras\n",
    "from tensorflow.keras.utils import plot_model\n",
    "import time"
   ]
  },
  {
   "cell_type": "code",
   "execution_count": null,
   "id": "1c3b1abd-a011-490d-afe5-40353d294c7d",
   "metadata": {},
   "outputs": [],
   "source": [
    "def k_fold(X, model, k=10, random_state=None):\n",
    "    kf = KFold(n_splits=k, random_state=random_state)\n",
    "    acc_score = []\n",
    "    error_rate = []\n",
    "\n",
    "    for train_index , test_index in kf.split(X):\n",
    "        X_train , X_test = X.iloc[train_index,:],X.iloc[test_index,:]\n",
    "        y_train , y_test = y[train_index] , y[test_index]\n",
    "\n",
    "        model.fit(X_train,y_train)\n",
    "        pred_values = model.predict(X_test)\n",
    "        \n",
    "        error_rate.append(np.mean(pred_values != y_test))\n",
    "\n",
    "        acc = accuracy_score(pred_values , y_test)\n",
    "        acc_score.append(acc)\n",
    "\n",
    "    avg_acc_score = sum(acc_score)/k\n",
    "    avg_error_rate = sum(error_rate)/k\n",
    "    \n",
    "    return avg_acc_score, acc_score, avg_error_rate, error_rate"
   ]
  },
  {
   "cell_type": "code",
   "execution_count": null,
   "id": "7e9e2e07-8a35-4b73-a897-d9e5559e1779",
   "metadata": {},
   "outputs": [],
   "source": [
    "def plot_avg_error_rate(error_rates, image_name, labels=None):\n",
    "    if labels is None:\n",
    "        labels = [i for i in range(len(error_rates))]\n",
    "        \n",
    "    plt.plot(labels, error_rates, color='blue', linestyle='solid', marker='o', markerfacecolor='red', markersize=8)\n",
    "    plt.title('Error Rate vs. K Value')\n",
    "    plt.xlabel('K')\n",
    "    plt.xticks([i for i in range(len(error_rates))])\n",
    "    plt.ylabel('Error Rate')\n",
    "    plt.savefig('figs/' + image_name)\n",
    "    plt.tight_layout()\n",
    "    plt.show()"
   ]
  },
  {
   "cell_type": "markdown",
   "id": "1cede256-406c-42ea-b0c2-16f1d7c09cdf",
   "metadata": {},
   "source": [
    "### Dataset"
   ]
  },
  {
   "cell_type": "code",
   "execution_count": null,
   "id": "a7de6327",
   "metadata": {},
   "outputs": [],
   "source": [
    "LibriSpeech = pd.read_csv('LibriSpeech.csv')\n",
    "LibriSpeech = LibriSpeech.drop(['recording', 'id'], axis=1)\n",
    "LibriSpeech.describe()"
   ]
  },
  {
   "cell_type": "markdown",
   "id": "55ca1395",
   "metadata": {},
   "source": [
    "### Visualization"
   ]
  },
  {
   "cell_type": "code",
   "execution_count": null,
   "id": "1f55adad",
   "metadata": {},
   "outputs": [],
   "source": [
    "correlation = LibriSpeech.corr()\n",
    "matrix = np.triu(correlation)\n",
    "\n",
    "fig=plt.gcf()\n",
    "fig.set_size_inches(30,15)\n",
    "sns.heatmap(data=correlation, annot=True, mask=matrix)\n",
    "plt.show()"
   ]
  },
  {
   "cell_type": "code",
   "execution_count": null,
   "id": "cd6e28a7",
   "metadata": {},
   "outputs": [],
   "source": [
    "male = LibriSpeech.loc[LibriSpeech['label']=='male']\n",
    "female = LibriSpeech.loc[LibriSpeech['label']=='female']\n",
    "fig, axes = plt.subplots(10, 2, figsize=(15,25))\n",
    "ax = axes.ravel()\n",
    "for i in range(20):\n",
    "    ax[i].hist(male.iloc[:,i], bins=20, color=mglearn.cm3(0), alpha=.5)\n",
    "    ax[i].hist(female.iloc[:, i], bins=20, color=mglearn.cm3(2), alpha=.5)\n",
    "    ax[i].set_title(list(male)[i])\n",
    "    ax[i].set_yticks(())\n",
    "    ax[i].set_xlabel(\"Feature magnitude\")\n",
    "    ax[i].set_ylabel(\"Frequency\")\n",
    "    ax[i].legend([\"male\", \"female\"], loc=\"best\")\n",
    "\n",
    "fig.tight_layout()"
   ]
  },
  {
   "cell_type": "markdown",
   "id": "d6c27d45",
   "metadata": {},
   "source": [
    "### Best features"
   ]
  },
  {
   "cell_type": "code",
   "execution_count": null,
   "id": "571ac293",
   "metadata": {},
   "outputs": [],
   "source": [
    "def select_kbest_clf(data_frame, target, k=5):\n",
    "    feat_selector = SelectKBest(f_classif, k=k)\n",
    "    _ = feat_selector.fit(data_frame.drop(target, axis=1), data_frame[target])\n",
    "    \n",
    "    feat_scores = pd.DataFrame()\n",
    "    feat_scores[\"F Score\"] = feat_selector.scores_\n",
    "    feat_scores[\"P Value\"] = feat_selector.pvalues_\n",
    "    feat_scores[\"Support\"] = feat_selector.get_support()\n",
    "    feat_scores[\"Attribute\"] = data_frame.drop(target, axis=1).columns\n",
    "    \n",
    "    return feat_scores"
   ]
  },
  {
   "cell_type": "code",
   "execution_count": null,
   "id": "a1aa5192",
   "metadata": {},
   "outputs": [],
   "source": [
    "LibriBest = select_kbest_clf(LibriSpeech, 'label', k=5).sort_values(['F Score'],ascending=False)\n",
    "LibriBest"
   ]
  },
  {
   "cell_type": "code",
   "execution_count": null,
   "id": "95841c9d",
   "metadata": {},
   "outputs": [],
   "source": [
    "plt.figure(figsize=(12, 10))\n",
    "k1=sns.barplot(x=LibriBest['F Score'],y=LibriBest['Attribute'])\n",
    "k1.set_title('Feature Importance')\n",
    "plt.savefig('figs/feature_importance')\n",
    "plt.show()"
   ]
  },
  {
   "cell_type": "code",
   "execution_count": null,
   "id": "28c213f6",
   "metadata": {},
   "outputs": [],
   "source": [
    "best_features= LibriBest['Attribute'].iloc[:10].values"
   ]
  },
  {
   "cell_type": "markdown",
   "id": "0b172a45",
   "metadata": {},
   "source": [
    "### Data preparation"
   ]
  },
  {
   "cell_type": "code",
   "execution_count": null,
   "id": "a47eb14c",
   "metadata": {},
   "outputs": [],
   "source": [
    "target_names = ['female', 'male']\n",
    "LibriSpeech.label.value_counts()"
   ]
  },
  {
   "cell_type": "code",
   "execution_count": null,
   "id": "6a7b856d",
   "metadata": {},
   "outputs": [],
   "source": [
    "x_data = LibriSpeech[best_features]\n",
    "y = LibriSpeech.label.values"
   ]
  },
  {
   "cell_type": "code",
   "execution_count": null,
   "id": "2e1c4c03",
   "metadata": {},
   "outputs": [],
   "source": [
    "X = (x_data-np.min(x_data))/(np.max(x_data)-np.min(x_data))\n",
    "X.head()"
   ]
  },
  {
   "cell_type": "markdown",
   "id": "c5fd3123",
   "metadata": {},
   "source": [
    "### Logistic regression"
   ]
  },
  {
   "cell_type": "code",
   "execution_count": null,
   "id": "2f493b26",
   "metadata": {},
   "outputs": [],
   "source": [
    "log_reg = LogisticRegression(max_iter=1000)\n",
    "start_time = time.time()\n",
    "avg_accuracy, _, avg_error_rate, _ = k_fold(X, log_reg)\n",
    "print(\"--- %s seconds ---\" % (time.time() - start_time))\n",
    "avg_accuracy, avg_error_rate"
   ]
  },
  {
   "cell_type": "markdown",
   "id": "61765de1",
   "metadata": {},
   "source": [
    "### KNN Classifier"
   ]
  },
  {
   "cell_type": "code",
   "execution_count": null,
   "id": "fc63eded-7366-4355-a952-0d8e6eaddbf1",
   "metadata": {
    "tags": []
   },
   "outputs": [],
   "source": [
    "error_rates = []\n",
    "for i in range(1, 20):\n",
    "    knn_model = neighbors.KNeighborsClassifier(n_neighbors = i)\n",
    "    avg_acc, _, avg_error_rate, _ = k_fold(X, knn_model)\n",
    "    error_rates.append(avg_error_rate)"
   ]
  },
  {
   "cell_type": "code",
   "execution_count": null,
   "id": "b3ae7828-287a-45ba-b933-39e0c5587244",
   "metadata": {},
   "outputs": [],
   "source": [
    "best_k_value = np.argmin(error_rates) + 1\n",
    "best_k_value"
   ]
  },
  {
   "cell_type": "code",
   "execution_count": null,
   "id": "8bcde422-057d-480c-93c9-6156114d44d3",
   "metadata": {},
   "outputs": [],
   "source": [
    "plot_avg_error_rate(error_rates, 'knn_error_rate', ['' + str(i) + '' for i in range(1, 20)])"
   ]
  },
  {
   "cell_type": "code",
   "execution_count": null,
   "id": "fc2909e4-80b8-4b73-bb0a-04849dd7c90b",
   "metadata": {},
   "outputs": [],
   "source": [
    "knn_model = neighbors.KNeighborsClassifier(n_neighbors = best_k_value)\n",
    "start_time = time.time()\n",
    "avg_acc, _, avg_error_rate, _ = k_fold(X, knn_model)\n",
    "print(\"--- %s seconds ---\" % (time.time() - start_time))\n",
    "avg_acc, avg_error_rate"
   ]
  },
  {
   "cell_type": "markdown",
   "id": "16eb16de",
   "metadata": {},
   "source": [
    "### Naive  Bayes"
   ]
  },
  {
   "cell_type": "code",
   "execution_count": null,
   "id": "724c9ef3",
   "metadata": {},
   "outputs": [],
   "source": [
    "nb_model = naive_bayes.GaussianNB()\n",
    "start_time = time.time()\n",
    "avg_acc, _, avg_error_rate, _ = k_fold(X, nb_model)\n",
    "print(\"--- %s seconds ---\" % (time.time() - start_time))\n",
    "avg_acc, avg_error_rate"
   ]
  },
  {
   "cell_type": "markdown",
   "id": "01f0ea08",
   "metadata": {},
   "source": [
    "### Decision tree"
   ]
  },
  {
   "cell_type": "code",
   "execution_count": null,
   "id": "0b91332f-04ac-4545-90cc-7023cd5b95d3",
   "metadata": {},
   "outputs": [],
   "source": [
    "error_rates = []\n",
    "for i in range(2, 21):\n",
    "    dt_model = tree.DecisionTreeClassifier(max_leaf_nodes=i)\n",
    "    _, _, avg_error_rate, _ = k_fold(X, dt_model)\n",
    "    error_rates.append(avg_error_rate)"
   ]
  },
  {
   "cell_type": "code",
   "execution_count": null,
   "id": "1a4bd09e-1599-4e28-a2b5-fa1075772d27",
   "metadata": {},
   "outputs": [],
   "source": [
    "best_leaf_value = np.argmin(error_rates)\n",
    "best_leaf_value = [i for i in range(2, 21)][best_leaf_value]"
   ]
  },
  {
   "cell_type": "code",
   "execution_count": null,
   "id": "e0e15061-c240-4cb5-b175-7f7d8bda39d1",
   "metadata": {},
   "outputs": [],
   "source": [
    "plot_avg_error_rate(error_rates, 'dt_error_rate', ['' + str(i) + '' for i in range(2, 21)])"
   ]
  },
  {
   "cell_type": "code",
   "execution_count": null,
   "id": "6ac30293-006c-46d3-87f2-1e974d11b499",
   "metadata": {},
   "outputs": [],
   "source": [
    "dt_model = tree.DecisionTreeClassifier(criterion = 'gini', max_leaf_nodes=best_leaf_value)\n",
    "start_time = time.time()\n",
    "avg_acc, _, avg_error_rate, _ = k_fold(X, dt_model)\n",
    "print(\"--- %s seconds ---\" % (time.time() - start_time))\n",
    "avg_acc, avg_error_rate"
   ]
  },
  {
   "cell_type": "code",
   "execution_count": null,
   "id": "ea6dfdb8",
   "metadata": {},
   "outputs": [],
   "source": [
    "plt.figure(figsize = (10, 10))\n",
    "tree.plot_tree(dt_model, feature_names=best_features)\n",
    "plt.savefig('figs/dt_model')\n",
    "plt.show()"
   ]
  },
  {
   "cell_type": "markdown",
   "id": "dfba3500",
   "metadata": {},
   "source": [
    "### Random Forest"
   ]
  },
  {
   "cell_type": "code",
   "execution_count": null,
   "id": "6a2faada",
   "metadata": {},
   "outputs": [],
   "source": [
    "error_rates = []\n",
    "for i in range(1, 101, 20):\n",
    "    rf_model = ensemble.RandomForestClassifier(n_estimators = i)\n",
    "    avg_acc, _, avg_error_rate, _ = k_fold(X, rf_model)\n",
    "    error_rates.append(avg_error_rate)"
   ]
  },
  {
   "cell_type": "code",
   "execution_count": null,
   "id": "6ef297f4-7e24-4fa6-b4c9-108c2eb058c8",
   "metadata": {},
   "outputs": [],
   "source": [
    "best_n_value = np.argmin(error_rates)\n",
    "best_n_value = error_rates[best_n_value]"
   ]
  },
  {
   "cell_type": "code",
   "execution_count": null,
   "id": "d3d638e3-a840-4028-b647-4c53329b6901",
   "metadata": {},
   "outputs": [],
   "source": [
    "labels=['' + str(i) + '' for i in range(1, 101, 20)]\n",
    "labels"
   ]
  },
  {
   "cell_type": "code",
   "execution_count": null,
   "id": "657437cf-f6e4-4c2d-830f-77738f737a5d",
   "metadata": {},
   "outputs": [],
   "source": [
    "plot_avg_error_rate(error_rates, 'rf_error_rate', labels)"
   ]
  },
  {
   "cell_type": "code",
   "execution_count": null,
   "id": "eca0d648-517b-4463-bc2c-d4b210882390",
   "metadata": {},
   "outputs": [],
   "source": [
    "rf_model = ensemble.RandomForestClassifier(n_estimators = best_n_value)\n",
    "start_time = time.time()\n",
    "avg_acc, _, avg_error_rate, _ = k_fold(X, rf_model)\n",
    "print(\"--- %s seconds ---\" % (time.time() - start_time))\n",
    "avg_acc, avg_error_rate"
   ]
  },
  {
   "cell_type": "markdown",
   "id": "6cb7e67a",
   "metadata": {},
   "source": [
    "### Support Vector Machine"
   ]
  },
  {
   "cell_type": "code",
   "execution_count": null,
   "id": "7cf233b6-9ba8-4ad9-9021-9332eb64ee0c",
   "metadata": {},
   "outputs": [],
   "source": [
    "kernels = ['rbf', 'poly', 'linear']\n",
    "error_rates = []\n",
    "for i in kernels:\n",
    "    print(i)\n",
    "    svc=svm.SVC(kernel=i)\n",
    "    _, _, avg_error_rate, _ = k_fold(X, svc)\n",
    "    \n",
    "    error_rates.append(avg_error_rate)"
   ]
  },
  {
   "cell_type": "code",
   "execution_count": null,
   "id": "7480aabe-8f07-48a0-8069-8afd07c89462",
   "metadata": {},
   "outputs": [],
   "source": [
    "best_kernel = np.argmin(error_rates)\n",
    "best_kernel = kernels[best_kernel]"
   ]
  },
  {
   "cell_type": "code",
   "execution_count": null,
   "id": "2c144bef-4574-4d46-b97f-36853e7f5090",
   "metadata": {
    "tags": []
   },
   "outputs": [],
   "source": [
    "svc_model = svm.SVC(kernel=best_kernel)\n",
    "start_time = time.time()\n",
    "avg_acc, _, avg_error_rate, _ = k_fold(X, svc_model)\n",
    "print(\"--- %s seconds ---\" % (time.time() - start_time))\n",
    "avg_acc, avg_error_rate"
   ]
  },
  {
   "cell_type": "markdown",
   "id": "7e899968-6e17-4824-be14-20928ee4cada",
   "metadata": {},
   "source": [
    "### ANN"
   ]
  },
  {
   "cell_type": "code",
   "execution_count": null,
   "id": "85f2787e-1e8e-49dc-a2ad-f2dbf4a5d14b",
   "metadata": {
    "tags": []
   },
   "outputs": [],
   "source": [
    "lb = LabelEncoder()\n",
    "y = to_categorical(lb.fit_transform(y))"
   ]
  },
  {
   "cell_type": "code",
   "execution_count": null,
   "id": "ac4bf41c-1f9d-410e-baf5-acc8d99257e9",
   "metadata": {},
   "outputs": [],
   "source": [
    "X.shape, y.shape"
   ]
  },
  {
   "cell_type": "code",
   "execution_count": null,
   "id": "56758904-6fe2-4f94-8b97-4bef8ff771f0",
   "metadata": {
    "tags": []
   },
   "outputs": [],
   "source": [
    "kf = KFold(n_splits=10)\n",
    "fold_no = 1\n",
    "avg_acc = 0\n",
    "\n",
    "for train_index , test_index in kf.split(X):\n",
    "    X_train , X_test = X.iloc[train_index,:],X.iloc[test_index,:]\n",
    "    y_train , y_test = y[train_index] , y[test_index]\n",
    "    \n",
    "    model = Sequential()\n",
    "    model.add(Dense(X.shape[1], input_shape=(X.shape[1],), activation = 'relu'))\n",
    "    model.add(Dense(64, activation = 'relu'))\n",
    "    model.add(Dropout(0.25))    \n",
    "    model.add(Dense(32, activation = 'relu'))\n",
    "    model.add(Dropout(0.5)) \n",
    "    model.add(Dense(32, activation = 'relu'))\n",
    "    model.add(Dropout(0.5)) \n",
    "    model.add(Dense(2, activation = 'softmax'))\n",
    "\n",
    "    model.compile(loss='categorical_crossentropy', metrics=['accuracy'], optimizer='adam')\n",
    "    early_stop = EarlyStopping(monitor='val_loss', min_delta=0, patience=100, verbose=1, mode='auto')\n",
    "\n",
    "    history = model.fit(X_train, y_train, batch_size=64, epochs=40, \n",
    "                    validation_data=(X_test, y_test),\n",
    "                    callbacks=[early_stop], verbose=0)\n",
    "\n",
    "    scores = model.evaluate(X_test, y_test, verbose=0)\n",
    "    avg_acc += scores[1]*100 \n",
    "    fold_no += 1\n",
    "    \n",
    "print('avg_acc:', (avg_acc/10))"
   ]
  },
  {
   "cell_type": "code",
   "execution_count": null,
   "id": "6ba2614a-8644-4a39-9105-b087b4b7d5f6",
   "metadata": {
    "tags": []
   },
   "outputs": [],
   "source": [
    "plot_model(model, to_file='model.png', show_shapes=True)"
   ]
  }
 ],
 "metadata": {
  "kernelspec": {
   "display_name": "Python 3",
   "language": "python",
   "name": "python3"
  },
  "language_info": {
   "codemirror_mode": {
    "name": "ipython",
    "version": 3
   },
   "file_extension": ".py",
   "mimetype": "text/x-python",
   "name": "python",
   "nbconvert_exporter": "python",
   "pygments_lexer": "ipython3",
   "version": "3.7.4"
  }
 },
 "nbformat": 4,
 "nbformat_minor": 5
}
