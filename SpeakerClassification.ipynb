{
 "cells": [
  {
   "cell_type": "code",
   "execution_count": null,
   "id": "63a909f9-2fa1-4ca6-bcfd-84139a401ef4",
   "metadata": {},
   "outputs": [],
   "source": [
    "import pandas as pd\n",
    "import numpy as np\n",
    "import matplotlib.pyplot as plt\n",
    "import seaborn as sns\n",
    "import mglearn\n",
    "import random\n",
    "import tensorflow as tf\n",
    "from keras.models import Sequential\n",
    "from keras.layers import Dense, Dropout, Activation, Flatten\n",
    "from keras.layers import Convolution2D, MaxPooling2D\n",
    "from tensorflow.keras.optimizers import Adam\n",
    "from keras.utils import np_utils\n",
    "from sklearn import preprocessing, neighbors, naive_bayes, tree, ensemble, svm, neural_network, metrics\n",
    "from sklearn.model_selection import train_test_split\n",
    "from sklearn.linear_model import LogisticRegression\n",
    "from sklearn.feature_selection import SelectKBest, f_classif\n",
    "from sklearn.metrics import classification_report, confusion_matrix, accuracy_score, ConfusionMatrixDisplay, RocCurveDisplay\n",
    "from sklearn.model_selection import KFold, StratifiedKFold\n",
    "from keras.callbacks import EarlyStopping\n",
    "import tensorflow as tf\n",
    "from keras.utils.np_utils import to_categorical\n",
    "from sklearn.preprocessing import LabelEncoder\n",
    "from sklearn.preprocessing import StandardScaler\n",
    "from IPython.display import Audio\n",
    "from tensorflow.keras.utils import plot_model"
   ]
  },
  {
   "cell_type": "code",
   "execution_count": null,
   "id": "8f8beb80-8355-4586-a05d-f2a443512ea8",
   "metadata": {},
   "outputs": [],
   "source": [
    "def select_kbest_clf(data_frame, target, k=5):\n",
    "    feat_selector = SelectKBest(f_classif, k=k)\n",
    "    _ = feat_selector.fit(data_frame.drop(target, axis=1), data_frame[target])\n",
    "    \n",
    "    feat_scores = pd.DataFrame()\n",
    "    feat_scores[\"F Score\"] = feat_selector.scores_\n",
    "    feat_scores[\"P Value\"] = feat_selector.pvalues_\n",
    "    feat_scores[\"Support\"] = feat_selector.get_support()\n",
    "    feat_scores[\"Attribute\"] = data_frame.drop(target, axis=1).columns\n",
    "    \n",
    "    return feat_scores"
   ]
  },
  {
   "cell_type": "code",
   "execution_count": null,
   "id": "252512b8-173f-47e4-9adb-374a298c5d6d",
   "metadata": {},
   "outputs": [],
   "source": [
    "def k_fold(X, model, k=10, random_state=None):\n",
    "    kf = StratifiedKFold(n_splits=k, random_state=random_state)\n",
    "    acc_score = []\n",
    "    error_rate = []\n",
    "\n",
    "    for train_index , test_index in kf.split(X, y):\n",
    "        X_train , X_test = X.iloc[train_index,:],X.iloc[test_index,:]\n",
    "        y_train , y_test = y[train_index] , y[test_index]\n",
    "\n",
    "        model.fit(X_train,y_train)\n",
    "        pred_values = model.predict(X_test)\n",
    "        \n",
    "        error_rate.append(np.mean(pred_values != y_test))\n",
    "\n",
    "        acc = accuracy_score(pred_values , y_test)\n",
    "        acc_score.append(acc)\n",
    "\n",
    "    avg_acc_score = sum(acc_score)/k\n",
    "    avg_error_rate = sum(error_rate)/k\n",
    "    \n",
    "    return avg_acc_score, acc_score, avg_error_rate, error_rate"
   ]
  },
  {
   "cell_type": "markdown",
   "id": "6a9075d3-8c96-4d22-b657-6d50649ea54d",
   "metadata": {
    "tags": []
   },
   "source": [
    "### Undersampling"
   ]
  },
  {
   "cell_type": "code",
   "execution_count": null,
   "id": "cc528bc7-eb28-4736-aef5-49380e567729",
   "metadata": {
    "tags": []
   },
   "outputs": [],
   "source": [
    "df = pd.read_csv('untitled folder/edited_voices.csv')\n",
    "ids = np.unique(df['id'])\n",
    "columns = df.columns.values\n",
    "min_val = min(df.id.value_counts())\n",
    "rows = []\n",
    "for user_id in ids:\n",
    "    new_data = np.array(df[df['id'] == user_id].iloc[:min_val])\n",
    "    rows.extend(new_data)\n",
    "    \n",
    "df = pd.DataFrame(columns=columns, data=rows)\n",
    "df = df.sample(frac=1).reset_index(drop=True)"
   ]
  },
  {
   "cell_type": "markdown",
   "id": "00a351a6-4ac9-4ee3-8bb3-2b55d0dc095a",
   "metadata": {},
   "source": [
    "### Oversampling"
   ]
  },
  {
   "cell_type": "code",
   "execution_count": null,
   "id": "57553e01-4dc7-48ec-81bc-b1a03f3414b9",
   "metadata": {},
   "outputs": [],
   "source": [
    "df = pd.read_csv('untitled folder/edited_voices.csv')\n",
    "ids = np.unique(df['id'])\n",
    "\n",
    "columns = df.columns.values\n",
    "max_val = max(df.id.value_counts())\n",
    "min_val = min(df.id.value_counts())\n",
    "\n",
    "rows = []\n",
    "\n",
    "for user_id in ids:\n",
    "    if len(df[df['id'] == user_id]) < max_val:\n",
    "        data = []\n",
    "        \n",
    "        while len(data) < max_val:\n",
    "            data.extend(np.array(df[df['id'] == user_id].iloc[:min_val]))\n",
    "                        \n",
    "        remove = len(data) - max_val\n",
    "        data = data[:-(remove)]\n",
    "        \n",
    "        rows.extend(data)\n",
    "    else:\n",
    "        rows.extend(np.array(df[df['id'] == user_id].iloc[:max_val]))\n",
    "\n",
    "df = pd.DataFrame(columns=columns, data=rows)\n",
    "df = df.sample(frac=1).reset_index(drop=True)"
   ]
  },
  {
   "cell_type": "code",
   "execution_count": null,
   "id": "15ce33cc-9ba4-404b-8f18-c56e2435fd97",
   "metadata": {},
   "outputs": [],
   "source": [
    "speakers = pd.DataFrame(columns=['recording', 'label', 'id'])\n",
    "speakers['recording'] = df['recording']\n",
    "speakers['label'] = df['label']\n",
    "speakers['id'] = df['id']\n",
    "\n",
    "speakers.head()"
   ]
  },
  {
   "cell_type": "code",
   "execution_count": null,
   "id": "2c812f45-42b7-45b6-a0df-144b18a90017",
   "metadata": {
    "tags": []
   },
   "outputs": [],
   "source": [
    "df = df.drop(['recording', 'label'], axis=1)\n",
    "df.describe()"
   ]
  },
  {
   "cell_type": "code",
   "execution_count": null,
   "id": "e26db6c0-7a77-4097-a084-bfd14c358553",
   "metadata": {},
   "outputs": [],
   "source": [
    "np.unique(speakers['id'].nunique(), return_counts=True)"
   ]
  },
  {
   "cell_type": "markdown",
   "id": "80c95d61-96de-4a75-a5a7-f7cea4de9208",
   "metadata": {},
   "source": [
    "### Feature selection"
   ]
  },
  {
   "cell_type": "code",
   "execution_count": null,
   "id": "d6ca9b4a-d45d-418b-9be1-78b5c85f8ba6",
   "metadata": {},
   "outputs": [],
   "source": [
    "k = select_kbest_clf(df, 'id', k=5).sort_values(['F Score'],ascending=False)\n",
    "k"
   ]
  },
  {
   "cell_type": "code",
   "execution_count": null,
   "id": "5d36cced-d100-416f-a03e-949aa51e0ab4",
   "metadata": {},
   "outputs": [],
   "source": [
    "plt.figure(figsize=(12, 10))\n",
    "k1=sns.barplot(x=k['F Score'],y=k['Attribute'])\n",
    "k1.set_title('Feature Importance')\n",
    "plt.show()"
   ]
  },
  {
   "cell_type": "code",
   "execution_count": null,
   "id": "895d53ae-b6fb-4805-a8b2-992cb591b4a8",
   "metadata": {},
   "outputs": [],
   "source": [
    "df = df.drop(['id'], axis=1)"
   ]
  },
  {
   "cell_type": "code",
   "execution_count": null,
   "id": "e02c049f-74a5-436d-9fdb-db4b605fdc7e",
   "metadata": {},
   "outputs": [],
   "source": [
    "x_data = df\n",
    "y = np.array(speakers['id'])"
   ]
  },
  {
   "cell_type": "code",
   "execution_count": null,
   "id": "c671346c-3638-4123-bd20-c2d1837164c1",
   "metadata": {},
   "outputs": [],
   "source": [
    "X = (x_data-np.min(x_data))/(np.max(x_data)-np.min(x_data))\n",
    "X.head()"
   ]
  },
  {
   "cell_type": "code",
   "execution_count": null,
   "id": "96f9c83f-ab8d-4fc4-8733-3881ad748e5e",
   "metadata": {},
   "outputs": [],
   "source": [
    "X.describe()"
   ]
  },
  {
   "cell_type": "markdown",
   "id": "a4052988-520a-416e-a26a-77a19add775e",
   "metadata": {
    "tags": []
   },
   "source": [
    "### Random Forest"
   ]
  },
  {
   "cell_type": "code",
   "execution_count": null,
   "id": "dc8e670c-4555-4cce-9f10-c34ee55f9cde",
   "metadata": {
    "tags": []
   },
   "outputs": [],
   "source": [
    "error_rates = []\n",
    "for i in range(1, 101, 20):\n",
    "    rf_model = ensemble.RandomForestClassifier(n_estimators = i)\n",
    "    avg_acc, _, avg_error_rate, _ = k_fold(X, rf_model)\n",
    "    error_rates.append(avg_error_rate)"
   ]
  },
  {
   "cell_type": "code",
   "execution_count": null,
   "id": "8f833557-657c-46ec-9d9f-a89617ed6a45",
   "metadata": {},
   "outputs": [],
   "source": [
    "best_n_value = np.argmin(error_rates)\n",
    "best_n_value = error_rates[best_n_value]"
   ]
  },
  {
   "cell_type": "code",
   "execution_count": null,
   "id": "7a26bfea-aa59-4560-9ec0-7eeff074ff09",
   "metadata": {},
   "outputs": [],
   "source": [
    "rf_model = ensemble.RandomForestClassifier(n_estimators = best_n_value)\n",
    "avg_acc, _, avg_error_rate, _ = k_fold(X, rf_model)\n",
    "avg_acc, avg_error_rate"
   ]
  },
  {
   "cell_type": "markdown",
   "id": "8052fa97-7d2c-45de-872e-43aa218373b4",
   "metadata": {},
   "source": [
    "### SVM"
   ]
  },
  {
   "cell_type": "code",
   "execution_count": null,
   "id": "f52676ca-0fbc-4d86-ad1f-dc9c1bb6a11a",
   "metadata": {},
   "outputs": [],
   "source": [
    "kernels = ['rbf', 'poly', 'linear']\n",
    "error_rates = []\n",
    "for i in kernels:\n",
    "    svc=svm.SVC(kernel=i)\n",
    "    _, _, avg_error_rate, _ = k_fold(X, svc)\n",
    "    \n",
    "    error_rates.append(avg_error_rate)"
   ]
  },
  {
   "cell_type": "code",
   "execution_count": null,
   "id": "b42921aa-ef30-4562-8717-0f79fa8f80fd",
   "metadata": {},
   "outputs": [],
   "source": [
    "best_kernel = np.argmin(error_rates)\n",
    "best_kernel = kernels[best_kernel]\n",
    "best_kernel"
   ]
  },
  {
   "cell_type": "code",
   "execution_count": null,
   "id": "e65e116c-c9ef-4b66-81f2-fa6dbdd7bcc8",
   "metadata": {},
   "outputs": [],
   "source": [
    "svc_model = svm.SVC(kernel=best_kernel)\n",
    "avg_acc, _, avg_error_rate, _ = k_fold(X, svc_model)\n",
    "avg_acc, avg_error_rate"
   ]
  },
  {
   "cell_type": "markdown",
   "id": "30815490-75bf-4eb1-87ea-8946772e980f",
   "metadata": {},
   "source": [
    "# ANN for undersampled dataset"
   ]
  },
  {
   "cell_type": "code",
   "execution_count": null,
   "id": "180ca1a3-2c18-402e-8075-fd9b6a7b8268",
   "metadata": {
    "tags": []
   },
   "outputs": [],
   "source": [
    "kf = StratifiedKFold(n_splits=10)\n",
    "fold_no = 1\n",
    "avg_acc = 0\n",
    "ss = StandardScaler()\n",
    "lb = LabelEncoder()\n",
    "\n",
    "for train_index , test_index in kf.split(X, y):\n",
    "    X_train , X_test = X.iloc[train_index,:],X.iloc[test_index,:]\n",
    "    y_train , y_test = y[train_index] , y[test_index]\n",
    "    \n",
    "    X_train = ss.fit_transform(X_train)\n",
    "    X_test = ss.transform(X_test)\n",
    "    \n",
    "    y_train = to_categorical(lb.fit_transform(y_train))\n",
    "    y_test = to_categorical(lb.fit_transform(y_test))\n",
    "    \n",
    "    model = Sequential()\n",
    "\n",
    "    model.add(Dense(20, input_shape=(20,), activation = 'relu'))\n",
    "\n",
    "    model.add(Dense(256, activation = 'relu'))\n",
    "    model.add(Dense(128, activation = 'relu'))\n",
    "    model.add(Dropout(0.15))   \n",
    "    model.add(Dense(64, activation = 'relu')) \n",
    "    model.add(Dropout(0.2)) \n",
    "    model.add(Dense(251, activation = 'softmax'))\n",
    "\n",
    "    model.compile(loss='categorical_crossentropy', metrics=['accuracy'], optimizer='adam')\n",
    "    early_stop = EarlyStopping(monitor='val_loss', min_delta=0, patience=100, verbose=1, mode='auto')\n",
    "\n",
    "    history = model.fit(X_train, y_train, batch_size=64, epochs=80, \n",
    "                        validation_data=(X_test, y_test),\n",
    "                        callbacks=[early_stop], verbose=0)\n",
    "\n",
    "    scores = model.evaluate(X_test, y_test, verbose=0)\n",
    "    avg_acc += scores[1]*100 \n",
    "    fold_no += 1\n",
    "    \n",
    "print('avg_acc:', (avg_acc/10))"
   ]
  },
  {
   "cell_type": "markdown",
   "id": "d967b59e-a208-4d5c-9695-c371b6c6ebbb",
   "metadata": {
    "tags": []
   },
   "source": [
    "### ANN For Oversampled"
   ]
  },
  {
   "cell_type": "code",
   "execution_count": null,
   "id": "aa4acb87-751e-4e8d-b33e-1d501522d49a",
   "metadata": {},
   "outputs": [],
   "source": [
    "kf = StratifiedKFold(n_splits=10)\n",
    "fold_no = 1\n",
    "avg_acc = 0\n",
    "ss = StandardScaler()\n",
    "lb = LabelEncoder()\n",
    "\n",
    "for train_index , test_index in kf.split(X, y):\n",
    "    X_train , X_test = X.iloc[train_index,:],X.iloc[test_index,:]\n",
    "    y_train , y_test = y[train_index] , y[test_index]\n",
    "    \n",
    "    X_train = ss.fit_transform(X_train)\n",
    "    X_test = ss.transform(X_test)\n",
    "    \n",
    "    y_train = to_categorical(lb.fit_transform(y_train))\n",
    "    y_test = to_categorical(lb.fit_transform(y_test))\n",
    "    \n",
    "    model = Sequential()\n",
    "\n",
    "    model.add(Dense(20, input_shape=(20,), activation = 'relu'))\n",
    "\n",
    "    model.add(Dense(1024, activation = 'relu'))\n",
    "    model.add(Dense(512, activation = 'relu'))\n",
    "    model.add(Dense(512, activation = 'relu'))\n",
    "    model.add(Dense(256, activation = 'relu'))\n",
    "    model.add(Dense(128, activation = 'relu'))   \n",
    "    model.add(Dense(128, activation = 'relu'))   \n",
    "    model.add(Dense(251, activation = 'softmax'))\n",
    "\n",
    "    model.compile(loss='categorical_crossentropy', metrics=['accuracy'], optimizer='adam')\n",
    "    early_stop = EarlyStopping(monitor='val_loss', min_delta=0, patience=100, verbose=1, mode='auto')\n",
    "\n",
    "    history = model.fit(X_train, y_train, batch_size=64, epochs=80, \n",
    "                        validation_data=(X_test, y_test),\n",
    "                        callbacks=[early_stop], verbose=0)\n",
    "\n",
    "    scores = model.evaluate(X_test, y_test, verbose=0)\n",
    "    avg_acc += scores[1]*100 \n",
    "    fold_no += 1\n",
    "    \n",
    "print('avg_acc:', (avg_acc/10))"
   ]
  },
  {
   "cell_type": "code",
   "execution_count": null,
   "id": "9ac0a239-026b-47de-8822-7afd24d87b83",
   "metadata": {},
   "outputs": [],
   "source": [
    "plot_model(model, to_file='model_oversampling.png', show_shapes=True)"
   ]
  }
 ],
 "metadata": {
  "kernelspec": {
   "display_name": "Python 3",
   "language": "python",
   "name": "python3"
  },
  "language_info": {
   "codemirror_mode": {
    "name": "ipython",
    "version": 3
   },
   "file_extension": ".py",
   "mimetype": "text/x-python",
   "name": "python",
   "nbconvert_exporter": "python",
   "pygments_lexer": "ipython3",
   "version": "3.7.4"
  }
 },
 "nbformat": 4,
 "nbformat_minor": 5
}
